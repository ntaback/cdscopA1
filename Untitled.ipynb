{
 "cells": [
  {
   "cell_type": "markdown",
   "id": "e7d30093",
   "metadata": {},
   "source": [
    "# A1\n",
    "\n",
    "## Instructions\n",
    "\n",
    "### Q1 \n",
    "\n",
    "print the world \"cop\" ten times."
   ]
  },
  {
   "cell_type": "code",
   "execution_count": null,
   "id": "2637c70d",
   "metadata": {},
   "outputs": [],
   "source": [
    "# insert your answer here"
   ]
  }
 ],
 "metadata": {
  "kernelspec": {
   "display_name": "Python 3 (ipykernel)",
   "language": "python",
   "name": "python3"
  },
  "language_info": {
   "codemirror_mode": {
    "name": "ipython",
    "version": 3
   },
   "file_extension": ".py",
   "mimetype": "text/x-python",
   "name": "python",
   "nbconvert_exporter": "python",
   "pygments_lexer": "ipython3",
   "version": "3.8.13"
  }
 },
 "nbformat": 4,
 "nbformat_minor": 5
}
